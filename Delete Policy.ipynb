{
 "cells": [
  {
   "cell_type": "markdown",
   "id": "1727707a",
   "metadata": {},
   "source": [
    "This script do a few things:\n",
    "1. Find all the policies based on the existing bundles and list them \n",
    "2. Allow to delete all dependent bundles from a policy \n",
    "3. Allow to delete a policy "
   ]
  },
  {
   "cell_type": "code",
   "execution_count": 23,
   "id": "6f9e57c6",
   "metadata": {},
   "outputs": [],
   "source": [
    "import os\n",
    "import requests\n",
    "import json"
   ]
  },
  {
   "cell_type": "code",
   "execution_count": 56,
   "id": "7443ca5b",
   "metadata": {},
   "outputs": [],
   "source": [
    "# ----------------------------------------------------\n",
    "#   ENV CONFIG & CONSTANTS\n",
    "# ----------------------------------------------------\n",
    "API_HOST = os.getenv(\"API_HOST\", \"https://domino.domino.tech\")\n",
    "API_KEY = os.getenv(\"API_KEY\", \"\")\n",
    "HEADERS = {\n",
    "    \"X-Domino-Api-Key\": API_KEY,\n",
    "    \"Accept\": \"application/json\"\n",
    "}"
   ]
  },
  {
   "cell_type": "code",
   "execution_count": 57,
   "id": "9a169a36",
   "metadata": {},
   "outputs": [
    {
     "name": "stdout",
     "output_type": "stream",
     "text": [
      "resp.status_code: 200\n",
      "resp: <Response [200]>\n",
      "Extracted bundles (66).\n",
      "Extracted Policies (24) from Bundles:\n",
      "{\n",
      "  \"be0fbb59-1807-4f40-bf2f-7707ad76671a\": \"Ethical AI Policy \",\n",
      "  \"74cf8a81-66ed-401d-8e2d-84bc3d90880c\": \"Business Risk Policy\",\n",
      "  \"e26bb642-f04a-41df-aef3-5fae2eaa718e\": \"Model Development Policy v2\",\n",
      "  \"b14b228d-0105-4817-9d5f-28d796116589\": \"ADaM Dataset\",\n",
      "  \"75656cfa-70ca-4ad8-bdcd-a7ca1ae78c33\": \"Model Risk Management\",\n",
      "  \"317d7fec-05e3-4ebf-abeb-25f06c658105\": \"Cyber Security Governance Policy\",\n",
      "  \"d4de83c8-10ac-416c-a01e-bb2207edcd92\": \"Project Intake Questionnaire \",\n",
      "  \"8184778a-b882-4c6b-9a47-2d7f8fd03479\": \"z1\",\n",
      "  \"52a6adff-8be2-451b-9236-a3cbfb16ca7d\": \"VisibilityRule\",\n",
      "  \"057cd4ad-fa68-4e77-8d94-bf381cad196e\": \"Stage 1 Model Planning Process\",\n",
      "  \"258642ce-5b4f-4b3c-88ce-d2d34bc68a93\": \"Decision Tree\",\n",
      "  \"adaddb51-16e2-4bfb-86f5-ca298b2d2753\": \"Tony's Decision Tree\",\n",
      "  \"22c77732-813f-446a-b088-91098c05245e\": \"NAIC\",\n",
      "  \"4fd04487-b44c-4676-9c90-864241cb985d\": \"Business Value Management 0.9\",\n",
      "  \"8bf44f9d-0d65-4737-b2d6-21a26a9a02b6\": \"v2\",\n",
      "  \"839a8305-ef9f-4b04-9365-1c175f254527\": \"Business Value Management 0.8\",\n",
      "  \"43137b2d-77c4-4508-acfa-b04ab00cba9b\": \"Business Value Management 0.7\",\n",
      "  \"f62891c6-8c0e-41e0-8687-0dfbceb1b9fa\": \"Business Value Management 0.6\",\n",
      "  \"a7773dd0-8e21-4edd-83cf-845491eb0e6e\": \"Business Value Management 0.5\",\n",
      "  \"abe67152-6f83-48be-ba74-c15c7531a283\": \"Business Value Management 0.4\",\n",
      "  \"cb3a8a82-bafb-430e-a44e-5364eb9be514\": \"Business Value Management 0.3\",\n",
      "  \"cc38ff87-0751-494f-ae98-68033aae7ef8\": \"Business Value Management 0.2\",\n",
      "  \"874d3bc6-64c2-4f1c-aac5-13dc41185821\": \"NIST AI Risk Management Framework\",\n",
      "  \"be25841a-2fcc-461e-a9f4-68745ecb42bb\": \"New Hire Training \"\n",
      "}\n"
     ]
    }
   ],
   "source": [
    "#\n",
    "#  Run this cell to identify all policies and get their IDs\n",
    "#\n",
    "\n",
    "url = f\"{API_HOST}/api/governance/v1/bundles\"\n",
    "\n",
    "params = {\"state\": [\"Active\", \"Archived\"]}\n",
    "resp = requests.get(url, headers=HEADERS, params=params)\n",
    "\n",
    "if resp.status_code != 200:\n",
    "    print(f\"Error fetching bundles: {resp.status_code} - {resp.text}\")\n",
    "bundles = resp.json().get(\"data\", [])\n",
    "\n",
    "print (f\"resp.status_code: {resp.status_code}\")\n",
    "print (f\"resp: {resp}\")\n",
    "if bundles:\n",
    "    print(f\"Extracted bundles ({len(bundles)}).\")\n",
    "    # print(json.dumps(bundles, indent=2))\n",
    "else:\n",
    "    print(\"No bundles found.\")\n",
    "\n",
    "policies = {}\n",
    "for b in bundles:\n",
    "    policy_id = b.get(\"policyId\")\n",
    "    policy_name = b.get(\"policyName\", \"Unnamed Policy\")\n",
    "    if policy_id:\n",
    "        policies[policy_id] = policy_name\n",
    "\n",
    "if policies:\n",
    "    print(f\"Extracted Policies ({len(policies)}) from Bundles:\")\n",
    "    print(json.dumps(policies, indent=2))\n",
    "else:\n",
    "    print(\"No policies found.\")"
   ]
  },
  {
   "cell_type": "code",
   "execution_count": 68,
   "id": "69df3f13",
   "metadata": {},
   "outputs": [
    {
     "name": "stdout",
     "output_type": "stream",
     "text": [
      "Found 1 bundles under policy ID 'a7773dd0-8e21-4edd-83cf-845491eb0e6e'.\n",
      "{\n",
      "  \"id\": \"a89c1efd-8b98-4b57-906e-2aa06ecfada9\",\n",
      "  \"name\": \"Model 1.5\",\n",
      "  \"createdAt\": \"2025-02-03T21:10:33.951657Z\",\n",
      "  \"createdBy\": {\n",
      "    \"firstName\": \"Ahmet\",\n",
      "    \"id\": \"654d51dac89cb93b0f7a9b1f\",\n",
      "    \"lastName\": \"Gyger\",\n",
      "    \"userName\": \"ahmet_gyger\"\n",
      "  },\n",
      "  \"policyId\": \"a7773dd0-8e21-4edd-83cf-845491eb0e6e\",\n",
      "  \"policyName\": \"Business Value Management 0.5\",\n",
      "  \"projectId\": \"67a0d42b4c047941d18bc89d\",\n",
      "  \"projectName\": \"GovernanceMQDemo2025\",\n",
      "  \"projectOwner\": \"ahmet_gyger\",\n",
      "  \"stage\": \"Define Business Value\",\n",
      "  \"classificationValue\": \"\",\n",
      "  \"state\": \"Active\"\n",
      "}\n",
      "Delete bundle '75656cfa-70ca-4ad8-bdcd-a7ca1ae78c33'. Status code: 204 - \n",
      "Deletion Results:\n",
      "Bundle ID a89c1efd-8b98-4b57-906e-2aa06ecfada9: Failed\n"
     ]
    }
   ],
   "source": [
    "# \n",
    "#\n",
    "#  Run this cell to delete all bundles from a policy \n",
    "#\n",
    "\n",
    "policy_to_delete = \"a7773dd0-8e21-4edd-83cf-845491eb0e6e\" # \"0477ae9b-0a53-49a6-914a-3405e476cb42\"\n",
    "\n",
    "def delete_bundle(bundle_id):\n",
    "    \"\"\"\n",
    "    Delete a bundle by its ID.\n",
    "    \"\"\"\n",
    "    url = f\"{API_HOST}/api/governance/v1/bundles/{bundle_id}\"\n",
    "    resp = requests.delete(url, headers=HEADERS)\n",
    "    print(f\"Delete bundle '{policy_id}'. Status code: {resp.status_code} - {resp.text}\")\n",
    "    return resp.status_code == 200\n",
    "\n",
    "def delete_all_bundles(bundles):\n",
    "    \"\"\"\n",
    "    Delete all bundles provided in the list and return a summary of the results.\n",
    "    \"\"\"\n",
    "    results = {}\n",
    "    for bundle in bundles:\n",
    "        bundle_id = bundle.get(\"id\")\n",
    "        if bundle_id:\n",
    "            success = delete_bundle(bundle_id)\n",
    "            results[bundle_id] = success\n",
    "    return results\n",
    "\n",
    "def delete_bundles_for_policy(policy_id):\n",
    "    # Fetch bundles for the given policy\n",
    "    bundles = list_bundles(policy_id=policy_id)\n",
    "    print(f\"Found {len(bundles)} bundles under policy ID '{policy_id}'.\")\n",
    "    for bundle in bundles:\n",
    "        # Print each bundle's details in a pretty format\n",
    "        print(json.dumps(bundle, indent=2))\n",
    "    \n",
    "    if not bundles:\n",
    "        print(\"No bundles found for this policy.\")\n",
    "        return\n",
    "\n",
    "    # Delete all bundles under the policy\n",
    "    results = delete_all_bundles(bundles)\n",
    "    \n",
    "    # Print deletion results for each bundle\n",
    "    print(\"Deletion Results:\")\n",
    "    for bundle_id, success in results.items():\n",
    "        status = \"Success\" if success else \"Failed\"\n",
    "        print(f\"Bundle ID {bundle_id}: {status}\")\n",
    "\n",
    "delete_bundles_for_policy(policy_to_delete)"
   ]
  },
  {
   "cell_type": "code",
   "execution_count": 69,
   "id": "92b63121",
   "metadata": {},
   "outputs": [
    {
     "name": "stdout",
     "output_type": "stream",
     "text": [
      "Policy 'a7773dd0-8e21-4edd-83cf-845491eb0e6e' deleted successfully.\n"
     ]
    }
   ],
   "source": [
    "# Delete the policy \n",
    "\n",
    "def delete_policy(policy_id):\n",
    "    \"\"\"\n",
    "    Deletes a policy by its ID.\n",
    "\n",
    "    Parameters:\n",
    "      policy_id (str): The ID of the policy to delete.\n",
    "    \"\"\"\n",
    "    url = f\"{API_HOST}/api/governance/v1/policies/{policy_id}\"\n",
    "    resp = requests.delete(url, headers=HEADERS)\n",
    "    \n",
    "    if resp.status_code == 204:\n",
    "        print(f\"Policy '{policy_id}' deleted successfully.\")\n",
    "    else:\n",
    "        print(f\"Failed to delete policy '{policy_id}'. Status code: {resp.status_code} - {resp.text}\")\n",
    "\n",
    "# Example usage:\n",
    "delete_policy(policy_to_delete)"
   ]
  },
  {
   "cell_type": "code",
   "execution_count": null,
   "id": "f25f7e06",
   "metadata": {},
   "outputs": [],
   "source": []
  }
 ],
 "metadata": {
  "kernelspec": {
   "display_name": "Python 3 (ipykernel)",
   "language": "python",
   "name": "python3"
  },
  "language_info": {
   "codemirror_mode": {
    "name": "ipython",
    "version": 3
   },
   "file_extension": ".py",
   "mimetype": "text/x-python",
   "name": "python",
   "nbconvert_exporter": "python",
   "pygments_lexer": "ipython3",
   "version": "3.10.14"
  }
 },
 "nbformat": 4,
 "nbformat_minor": 5
}
